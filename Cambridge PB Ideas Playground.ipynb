{
 "cells": [
  {
   "cell_type": "code",
   "execution_count": 174,
   "metadata": {},
   "outputs": [],
   "source": [
    "import numpy as np\n",
    "import pandas as pd\n",
    "import scipy\n",
    "import scipy.stats\n",
    "import matplotlib.pyplot as plt\n",
    "%matplotlib inline\n",
    "from ggplot import *\n",
    "# for maps\n",
    "from mapboxgl.utils import *\n",
    "from mapboxgl.viz import *\n",
    "import geojson\n",
    "# for text analysis\n",
    "from google.cloud import language\n",
    "from google.cloud.language import enums\n",
    "from google.cloud.language import types\n",
    "from inflector import Inflector, English\n",
    "inf = Inflector(English)"
   ]
  },
  {
   "cell_type": "code",
   "execution_count": 2,
   "metadata": {},
   "outputs": [],
   "source": [
    "file_path = './camb-pb-data/Participatory_Budgeting_Ideas_Submitted_by_Community_Members.csv'\n",
    "pb_data = pd.read_csv(file_path)"
   ]
  },
  {
   "cell_type": "code",
   "execution_count": 3,
   "metadata": {},
   "outputs": [
    {
     "data": {
      "text/html": [
       "<div>\n",
       "<style scoped>\n",
       "    .dataframe tbody tr th:only-of-type {\n",
       "        vertical-align: middle;\n",
       "    }\n",
       "\n",
       "    .dataframe tbody tr th {\n",
       "        vertical-align: top;\n",
       "    }\n",
       "\n",
       "    .dataframe thead th {\n",
       "        text-align: right;\n",
       "    }\n",
       "</style>\n",
       "<table border=\"1\" class=\"dataframe\">\n",
       "  <thead>\n",
       "    <tr style=\"text-align: right;\">\n",
       "      <th></th>\n",
       "      <th>PB Cycle</th>\n",
       "      <th>Idea #</th>\n",
       "      <th>Committee</th>\n",
       "      <th>Project Title</th>\n",
       "      <th>Project Description</th>\n",
       "      <th>Project Status</th>\n",
       "      <th>Idea Submitter</th>\n",
       "      <th>Location</th>\n",
       "      <th>Latitude</th>\n",
       "      <th>Longitude</th>\n",
       "    </tr>\n",
       "  </thead>\n",
       "  <tbody>\n",
       "    <tr>\n",
       "      <th>0</th>\n",
       "      <td>PB1 (October 2014-April 2015)</td>\n",
       "      <td>C1</td>\n",
       "      <td>Culture &amp; Community Facilities</td>\n",
       "      <td>Renovate the O'Connell Library; including the ...</td>\n",
       "      <td>This is needed because the library is a very a...</td>\n",
       "      <td>This project made it to the ballot, but didn't...</td>\n",
       "      <td>Yan</td>\n",
       "      <td>48 Sixth Street\\n(42.3704669999999, -71.084961)</td>\n",
       "      <td>42.370467</td>\n",
       "      <td>-71.084961</td>\n",
       "    </tr>\n",
       "    <tr>\n",
       "      <th>1</th>\n",
       "      <td>PB1 (October 2014-April 2015)</td>\n",
       "      <td>C2</td>\n",
       "      <td>Culture &amp; Community Facilities</td>\n",
       "      <td>New furniture for the O'Connell Library</td>\n",
       "      <td>The library needs new furniture and maybe a pl...</td>\n",
       "      <td>This project made it to the ballot, but didn't...</td>\n",
       "      <td>Keniya</td>\n",
       "      <td>Otis Street\\n(42.3704329999999, -71.0847749999...</td>\n",
       "      <td>42.370433</td>\n",
       "      <td>-71.084775</td>\n",
       "    </tr>\n",
       "    <tr>\n",
       "      <th>2</th>\n",
       "      <td>PB1 (October 2014-April 2015)</td>\n",
       "      <td>C3</td>\n",
       "      <td>Culture &amp; Community Facilities</td>\n",
       "      <td>Renovate the Cambridge Public Library branches...</td>\n",
       "      <td>The Main Library is great, but many branches a...</td>\n",
       "      <td>Renovations for the O'Connell Library branch m...</td>\n",
       "      <td>Rena</td>\n",
       "      <td>45 Pearl Street\\n(42.363069, -71.1024699999999)</td>\n",
       "      <td>42.363069</td>\n",
       "      <td>-71.102470</td>\n",
       "    </tr>\n",
       "    <tr>\n",
       "      <th>3</th>\n",
       "      <td>PB1 (October 2014-April 2015)</td>\n",
       "      <td>C4</td>\n",
       "      <td>Culture &amp; Community Facilities</td>\n",
       "      <td>Main Library improvements</td>\n",
       "      <td>1. Free parking.  2. Paid parking to be longer...</td>\n",
       "      <td>Budget Delegates did not move this idea forwar...</td>\n",
       "      <td>Martha Older</td>\n",
       "      <td>449 Broadway\\n(42.3741209, -71.1107166)</td>\n",
       "      <td>42.374121</td>\n",
       "      <td>-71.110717</td>\n",
       "    </tr>\n",
       "    <tr>\n",
       "      <th>4</th>\n",
       "      <td>PB1 (October 2014-April 2015)</td>\n",
       "      <td>C5</td>\n",
       "      <td>Culture &amp; Community Facilities</td>\n",
       "      <td>Improvements to all libraries</td>\n",
       "      <td>More computers.  Tax forms.  Tool check out.</td>\n",
       "      <td>Budget Delegates did not rank this as a high p...</td>\n",
       "      <td>Martha Older</td>\n",
       "      <td>Citywide\\n(42.366956, -71.1058539999999)</td>\n",
       "      <td>42.366956</td>\n",
       "      <td>-71.105854</td>\n",
       "    </tr>\n",
       "  </tbody>\n",
       "</table>\n",
       "</div>"
      ],
      "text/plain": [
       "                        PB Cycle Idea #                       Committee  \\\n",
       "0  PB1 (October 2014-April 2015)     C1  Culture & Community Facilities   \n",
       "1  PB1 (October 2014-April 2015)     C2  Culture & Community Facilities   \n",
       "2  PB1 (October 2014-April 2015)     C3  Culture & Community Facilities   \n",
       "3  PB1 (October 2014-April 2015)     C4  Culture & Community Facilities   \n",
       "4  PB1 (October 2014-April 2015)     C5  Culture & Community Facilities   \n",
       "\n",
       "                                       Project Title  \\\n",
       "0  Renovate the O'Connell Library; including the ...   \n",
       "1            New furniture for the O'Connell Library   \n",
       "2  Renovate the Cambridge Public Library branches...   \n",
       "3                          Main Library improvements   \n",
       "4                      Improvements to all libraries   \n",
       "\n",
       "                                 Project Description  \\\n",
       "0  This is needed because the library is a very a...   \n",
       "1  The library needs new furniture and maybe a pl...   \n",
       "2  The Main Library is great, but many branches a...   \n",
       "3  1. Free parking.  2. Paid parking to be longer...   \n",
       "4      More computers.  Tax forms.  Tool check out.    \n",
       "\n",
       "                                      Project Status Idea Submitter  \\\n",
       "0  This project made it to the ballot, but didn't...            Yan   \n",
       "1  This project made it to the ballot, but didn't...         Keniya   \n",
       "2  Renovations for the O'Connell Library branch m...           Rena   \n",
       "3  Budget Delegates did not move this idea forwar...   Martha Older   \n",
       "4  Budget Delegates did not rank this as a high p...   Martha Older   \n",
       "\n",
       "                                            Location   Latitude  Longitude  \n",
       "0    48 Sixth Street\\n(42.3704669999999, -71.084961)  42.370467 -71.084961  \n",
       "1  Otis Street\\n(42.3704329999999, -71.0847749999...  42.370433 -71.084775  \n",
       "2    45 Pearl Street\\n(42.363069, -71.1024699999999)  42.363069 -71.102470  \n",
       "3            449 Broadway\\n(42.3741209, -71.1107166)  42.374121 -71.110717  \n",
       "4           Citywide\\n(42.366956, -71.1058539999999)  42.366956 -71.105854  "
      ]
     },
     "execution_count": 3,
     "metadata": {},
     "output_type": "execute_result"
    }
   ],
   "source": [
    "pb_data.head()"
   ]
  },
  {
   "cell_type": "code",
   "execution_count": 4,
   "metadata": {},
   "outputs": [],
   "source": [
    "pb_data['Committee'] = pb_data['Committee'].apply(lambda x: x.strip())"
   ]
  },
  {
   "cell_type": "code",
   "execution_count": 5,
   "metadata": {},
   "outputs": [
    {
     "data": {
      "text/plain": [
       "Committee\n",
       "'Bridge Builders                   76\n",
       "Community Resources                96\n",
       "Culture & Community Facilities    195\n",
       "Environment                        93\n",
       "Environment, Health & Safety      212\n",
       "Health, Environment & Safety      121\n",
       "Parks & Recreation                300\n",
       "Parks, Recreation & Education     113\n",
       "Streets, Sidewalks & Transit      170\n",
       "Streetsmarts                      582\n",
       "Youth & Education                  63\n",
       "Youth & Technology                 58\n",
       "dtype: int64"
      ]
     },
     "execution_count": 5,
     "metadata": {},
     "output_type": "execute_result"
    }
   ],
   "source": [
    "pb_data.groupby('Committee').size()"
   ]
  },
  {
   "cell_type": "code",
   "execution_count": 6,
   "metadata": {},
   "outputs": [],
   "source": [
    "def rename_committees(committee):\n",
    "    # code to rename committees\n",
    "    if committee == 'Environment' or committee == 'Environment, Health & Safety' or committee == 'Health, Environment & Safety':\n",
    "        return 'Environment, Health & Safety'\n",
    "    elif committee == 'Parks & Recreation' or committee == 'Parks, Recreation & Education':\n",
    "        return 'Parks, Recreation & Education'\n",
    "    elif committee == 'Youth & Education' or committee == 'Youth & Technology':\n",
    "        return 'Youth Education & Technology'\n",
    "    elif committee == 'Streets, Sidewalks & Transit' or committee == 'Streetsmarts':\n",
    "        return 'Streets, Sidewalks & Transit'\n",
    "    elif committee == 'Culture & Community Facilities' or committee == 'Community Resources' or committee == '\\'Bridge Builders':\n",
    "        return 'Culture & Community'\n",
    "    else:\n",
    "        return committee"
   ]
  },
  {
   "cell_type": "code",
   "execution_count": 7,
   "metadata": {},
   "outputs": [],
   "source": [
    "pb_data['Committee'] = pb_data['Committee'].apply(rename_committees)"
   ]
  },
  {
   "cell_type": "code",
   "execution_count": 8,
   "metadata": {},
   "outputs": [
    {
     "data": {
      "text/plain": [
       "Streets, Sidewalks & Transit     0.361712\n",
       "Environment, Health & Safety     0.204906\n",
       "Parks, Recreation & Education    0.198653\n",
       "Culture & Community              0.176527\n",
       "Youth Education & Technology     0.058201\n",
       "Name: Committee, dtype: float64"
      ]
     },
     "execution_count": 8,
     "metadata": {},
     "output_type": "execute_result"
    }
   ],
   "source": [
    "pb_data['Committee'].value_counts(normalize=True)"
   ]
  },
  {
   "cell_type": "code",
   "execution_count": 9,
   "metadata": {},
   "outputs": [],
   "source": [
    "committee_groups = pb_data.groupby(['Committee'])\n",
    "committees = committee_groups.size().to_frame(name='# of ideas submitted').reset_index()\n",
    "committees.to_csv('camb-pb-data/committees.csv')"
   ]
  },
  {
   "cell_type": "code",
   "execution_count": 10,
   "metadata": {},
   "outputs": [
    {
     "data": {
      "text/html": [
       "<div>\n",
       "<style scoped>\n",
       "    .dataframe tbody tr th:only-of-type {\n",
       "        vertical-align: middle;\n",
       "    }\n",
       "\n",
       "    .dataframe tbody tr th {\n",
       "        vertical-align: top;\n",
       "    }\n",
       "\n",
       "    .dataframe thead th {\n",
       "        text-align: right;\n",
       "    }\n",
       "</style>\n",
       "<table border=\"1\" class=\"dataframe\">\n",
       "  <thead>\n",
       "    <tr style=\"text-align: right;\">\n",
       "      <th></th>\n",
       "      <th>Committee</th>\n",
       "      <th># of ideas submitted</th>\n",
       "    </tr>\n",
       "  </thead>\n",
       "  <tbody>\n",
       "    <tr>\n",
       "      <th>0</th>\n",
       "      <td>Culture &amp; Community</td>\n",
       "      <td>367</td>\n",
       "    </tr>\n",
       "    <tr>\n",
       "      <th>1</th>\n",
       "      <td>Environment, Health &amp; Safety</td>\n",
       "      <td>426</td>\n",
       "    </tr>\n",
       "    <tr>\n",
       "      <th>2</th>\n",
       "      <td>Parks, Recreation &amp; Education</td>\n",
       "      <td>413</td>\n",
       "    </tr>\n",
       "    <tr>\n",
       "      <th>3</th>\n",
       "      <td>Streets, Sidewalks &amp; Transit</td>\n",
       "      <td>752</td>\n",
       "    </tr>\n",
       "    <tr>\n",
       "      <th>4</th>\n",
       "      <td>Youth Education &amp; Technology</td>\n",
       "      <td>121</td>\n",
       "    </tr>\n",
       "  </tbody>\n",
       "</table>\n",
       "</div>"
      ],
      "text/plain": [
       "                       Committee  # of ideas submitted\n",
       "0            Culture & Community                   367\n",
       "1   Environment, Health & Safety                   426\n",
       "2  Parks, Recreation & Education                   413\n",
       "3   Streets, Sidewalks & Transit                   752\n",
       "4   Youth Education & Technology                   121"
      ]
     },
     "execution_count": 10,
     "metadata": {},
     "output_type": "execute_result"
    }
   ],
   "source": [
    "committees.head()"
   ]
  },
  {
   "cell_type": "code",
   "execution_count": 11,
   "metadata": {},
   "outputs": [],
   "source": [
    "cycle_groups = pb_data.groupby('PB Cycle')\n",
    "cycles = cycle_groups.size().to_frame(name=\"# of ideas submitted\").reset_index()\n",
    "cycles.to_csv('camb-pb-data/cycles.csv')"
   ]
  },
  {
   "cell_type": "code",
   "execution_count": 12,
   "metadata": {},
   "outputs": [
    {
     "data": {
      "text/html": [
       "<div>\n",
       "<style scoped>\n",
       "    .dataframe tbody tr th:only-of-type {\n",
       "        vertical-align: middle;\n",
       "    }\n",
       "\n",
       "    .dataframe tbody tr th {\n",
       "        vertical-align: top;\n",
       "    }\n",
       "\n",
       "    .dataframe thead th {\n",
       "        text-align: right;\n",
       "    }\n",
       "</style>\n",
       "<table border=\"1\" class=\"dataframe\">\n",
       "  <thead>\n",
       "    <tr style=\"text-align: right;\">\n",
       "      <th></th>\n",
       "      <th>PB Cycle</th>\n",
       "      <th># of ideas submitted</th>\n",
       "    </tr>\n",
       "  </thead>\n",
       "  <tbody>\n",
       "    <tr>\n",
       "      <th>0</th>\n",
       "      <td>PB1 (October 2014-April 2015)</td>\n",
       "      <td>380</td>\n",
       "    </tr>\n",
       "    <tr>\n",
       "      <th>1</th>\n",
       "      <td>PB2 (June-December 2015)</td>\n",
       "      <td>540</td>\n",
       "    </tr>\n",
       "    <tr>\n",
       "      <th>2</th>\n",
       "      <td>PB3(June-December 2016)</td>\n",
       "      <td>549</td>\n",
       "    </tr>\n",
       "    <tr>\n",
       "      <th>3</th>\n",
       "      <td>PB4(June-December 2017)</td>\n",
       "      <td>610</td>\n",
       "    </tr>\n",
       "  </tbody>\n",
       "</table>\n",
       "</div>"
      ],
      "text/plain": [
       "                        PB Cycle  # of ideas submitted\n",
       "0  PB1 (October 2014-April 2015)                   380\n",
       "1       PB2 (June-December 2015)                   540\n",
       "2        PB3(June-December 2016)                   549\n",
       "3        PB4(June-December 2017)                   610"
      ]
     },
     "execution_count": 12,
     "metadata": {},
     "output_type": "execute_result"
    }
   ],
   "source": [
    "cycles.head()"
   ]
  },
  {
   "cell_type": "code",
   "execution_count": 13,
   "metadata": {},
   "outputs": [
    {
     "data": {
      "text/html": [
       "<div>\n",
       "<style scoped>\n",
       "    .dataframe tbody tr th:only-of-type {\n",
       "        vertical-align: middle;\n",
       "    }\n",
       "\n",
       "    .dataframe tbody tr th {\n",
       "        vertical-align: top;\n",
       "    }\n",
       "\n",
       "    .dataframe thead th {\n",
       "        text-align: right;\n",
       "    }\n",
       "</style>\n",
       "<table border=\"1\" class=\"dataframe\">\n",
       "  <thead>\n",
       "    <tr style=\"text-align: right;\">\n",
       "      <th></th>\n",
       "      <th>PB Cycle</th>\n",
       "      <th>Idea #</th>\n",
       "      <th>Committee</th>\n",
       "      <th>Project Title</th>\n",
       "      <th>Project Description</th>\n",
       "      <th>Project Status</th>\n",
       "      <th>Idea Submitter</th>\n",
       "      <th>Location</th>\n",
       "      <th>Latitude</th>\n",
       "      <th>Longitude</th>\n",
       "    </tr>\n",
       "  </thead>\n",
       "  <tbody>\n",
       "    <tr>\n",
       "      <th>0</th>\n",
       "      <td>PB1 (October 2014-April 2015)</td>\n",
       "      <td>C1</td>\n",
       "      <td>Culture &amp; Community</td>\n",
       "      <td>Renovate the O'Connell Library; including the ...</td>\n",
       "      <td>This is needed because the library is a very a...</td>\n",
       "      <td>This project made it to the ballot, but didn't...</td>\n",
       "      <td>Yan</td>\n",
       "      <td>48 Sixth Street\\n(42.3704669999999, -71.084961)</td>\n",
       "      <td>42.370467</td>\n",
       "      <td>-71.084961</td>\n",
       "    </tr>\n",
       "    <tr>\n",
       "      <th>1</th>\n",
       "      <td>PB1 (October 2014-April 2015)</td>\n",
       "      <td>C2</td>\n",
       "      <td>Culture &amp; Community</td>\n",
       "      <td>New furniture for the O'Connell Library</td>\n",
       "      <td>The library needs new furniture and maybe a pl...</td>\n",
       "      <td>This project made it to the ballot, but didn't...</td>\n",
       "      <td>Keniya</td>\n",
       "      <td>Otis Street\\n(42.3704329999999, -71.0847749999...</td>\n",
       "      <td>42.370433</td>\n",
       "      <td>-71.084775</td>\n",
       "    </tr>\n",
       "    <tr>\n",
       "      <th>2</th>\n",
       "      <td>PB1 (October 2014-April 2015)</td>\n",
       "      <td>C3</td>\n",
       "      <td>Culture &amp; Community</td>\n",
       "      <td>Renovate the Cambridge Public Library branches...</td>\n",
       "      <td>The Main Library is great, but many branches a...</td>\n",
       "      <td>Renovations for the O'Connell Library branch m...</td>\n",
       "      <td>Rena</td>\n",
       "      <td>45 Pearl Street\\n(42.363069, -71.1024699999999)</td>\n",
       "      <td>42.363069</td>\n",
       "      <td>-71.102470</td>\n",
       "    </tr>\n",
       "    <tr>\n",
       "      <th>3</th>\n",
       "      <td>PB1 (October 2014-April 2015)</td>\n",
       "      <td>C4</td>\n",
       "      <td>Culture &amp; Community</td>\n",
       "      <td>Main Library improvements</td>\n",
       "      <td>1. Free parking.  2. Paid parking to be longer...</td>\n",
       "      <td>Budget Delegates did not move this idea forwar...</td>\n",
       "      <td>Martha Older</td>\n",
       "      <td>449 Broadway\\n(42.3741209, -71.1107166)</td>\n",
       "      <td>42.374121</td>\n",
       "      <td>-71.110717</td>\n",
       "    </tr>\n",
       "    <tr>\n",
       "      <th>4</th>\n",
       "      <td>PB1 (October 2014-April 2015)</td>\n",
       "      <td>C5</td>\n",
       "      <td>Culture &amp; Community</td>\n",
       "      <td>Improvements to all libraries</td>\n",
       "      <td>More computers.  Tax forms.  Tool check out.</td>\n",
       "      <td>Budget Delegates did not rank this as a high p...</td>\n",
       "      <td>Martha Older</td>\n",
       "      <td>Citywide\\n(42.366956, -71.1058539999999)</td>\n",
       "      <td>42.366956</td>\n",
       "      <td>-71.105854</td>\n",
       "    </tr>\n",
       "  </tbody>\n",
       "</table>\n",
       "</div>"
      ],
      "text/plain": [
       "                        PB Cycle Idea #            Committee  \\\n",
       "0  PB1 (October 2014-April 2015)     C1  Culture & Community   \n",
       "1  PB1 (October 2014-April 2015)     C2  Culture & Community   \n",
       "2  PB1 (October 2014-April 2015)     C3  Culture & Community   \n",
       "3  PB1 (October 2014-April 2015)     C4  Culture & Community   \n",
       "4  PB1 (October 2014-April 2015)     C5  Culture & Community   \n",
       "\n",
       "                                       Project Title  \\\n",
       "0  Renovate the O'Connell Library; including the ...   \n",
       "1            New furniture for the O'Connell Library   \n",
       "2  Renovate the Cambridge Public Library branches...   \n",
       "3                          Main Library improvements   \n",
       "4                      Improvements to all libraries   \n",
       "\n",
       "                                 Project Description  \\\n",
       "0  This is needed because the library is a very a...   \n",
       "1  The library needs new furniture and maybe a pl...   \n",
       "2  The Main Library is great, but many branches a...   \n",
       "3  1. Free parking.  2. Paid parking to be longer...   \n",
       "4      More computers.  Tax forms.  Tool check out.    \n",
       "\n",
       "                                      Project Status Idea Submitter  \\\n",
       "0  This project made it to the ballot, but didn't...            Yan   \n",
       "1  This project made it to the ballot, but didn't...         Keniya   \n",
       "2  Renovations for the O'Connell Library branch m...           Rena   \n",
       "3  Budget Delegates did not move this idea forwar...   Martha Older   \n",
       "4  Budget Delegates did not rank this as a high p...   Martha Older   \n",
       "\n",
       "                                            Location   Latitude  Longitude  \n",
       "0    48 Sixth Street\\n(42.3704669999999, -71.084961)  42.370467 -71.084961  \n",
       "1  Otis Street\\n(42.3704329999999, -71.0847749999...  42.370433 -71.084775  \n",
       "2    45 Pearl Street\\n(42.363069, -71.1024699999999)  42.363069 -71.102470  \n",
       "3            449 Broadway\\n(42.3741209, -71.1107166)  42.374121 -71.110717  \n",
       "4           Citywide\\n(42.366956, -71.1058539999999)  42.366956 -71.105854  "
      ]
     },
     "execution_count": 13,
     "metadata": {},
     "output_type": "execute_result"
    }
   ],
   "source": [
    "pb_data.head()"
   ]
  },
  {
   "cell_type": "code",
   "execution_count": 14,
   "metadata": {},
   "outputs": [],
   "source": [
    "pb_by_category = committee_groups.size().to_frame(name='# of ideas').reset_index()"
   ]
  },
  {
   "cell_type": "code",
   "execution_count": 15,
   "metadata": {},
   "outputs": [],
   "source": [
    "pb_by_location = pb_data.dropna(axis=0, how='any', subset=['Latitude', 'Longitude'])"
   ]
  },
  {
   "cell_type": "code",
   "execution_count": 16,
   "metadata": {},
   "outputs": [
    {
     "name": "stderr",
     "output_type": "stream",
     "text": [
      "/Users/alex/anaconda/envs/py3/lib/python3.6/site-packages/mapboxgl/utils.py:20: SettingWithCopyWarning: \n",
      "A value is trying to be set on a copy of a slice from a DataFrame.\n",
      "Try using .loc[row_indexer,col_indexer] = value instead\n",
      "\n",
      "See the caveats in the documentation: http://pandas.pydata.org/pandas-docs/stable/indexing.html#indexing-view-versus-copy\n",
      "  df[lon] = df[lon].round(precision)\n",
      "/Users/alex/anaconda/envs/py3/lib/python3.6/site-packages/mapboxgl/utils.py:21: SettingWithCopyWarning: \n",
      "A value is trying to be set on a copy of a slice from a DataFrame.\n",
      "Try using .loc[row_indexer,col_indexer] = value instead\n",
      "\n",
      "See the caveats in the documentation: http://pandas.pydata.org/pandas-docs/stable/indexing.html#indexing-view-versus-copy\n",
      "  df[lat] = df[lat].round(precision)\n"
     ]
    },
    {
     "data": {
      "text/plain": [
       "{'feature_count': 1514,\n",
       " 'filename': 'camb-pb-data/locations.geojson',\n",
       " 'type': 'file'}"
      ]
     },
     "execution_count": 16,
     "metadata": {},
     "output_type": "execute_result"
    }
   ],
   "source": [
    "# ideas by location\n",
    "df_to_geojson(pb_by_location, filename='camb-pb-data/locations.geojson',\n",
    "              properties=['Committee', 'PB Cycle'],\n",
    "              lat='Latitude', lon='Longitude', precision=3)"
   ]
  },
  {
   "cell_type": "code",
   "execution_count": 17,
   "metadata": {},
   "outputs": [
    {
     "data": {
      "text/plain": [
       "Martha Older                   69\n",
       "Anonymous                      30\n",
       "Russell Youth Center           29\n",
       "PB Assembly                    23\n",
       "CHA Summer Literacy Program    23\n",
       "Name: Idea Submitter, dtype: int64"
      ]
     },
     "execution_count": 17,
     "metadata": {},
     "output_type": "execute_result"
    }
   ],
   "source": [
    "pb_data['Idea Submitter'].value_counts().head()"
   ]
  },
  {
   "cell_type": "markdown",
   "metadata": {},
   "source": [
    "Things I am interested in finding out:\n",
    "- categorize the ideas based on their content, more specific categories, rather than the few we have\n",
    "- break the interest of particular types of ideas (by category and the above) by year, see if trends exist for particular types of ideas\n",
    "- look at the influence of the minority, 69 (3.5% total) ideas presumably came from one person, that's a lot of influence (calculate how much based on any accepted proposals)"
   ]
  },
  {
   "cell_type": "code",
   "execution_count": 20,
   "metadata": {},
   "outputs": [],
   "source": [
    "committee_and_cycle_groups = pb_data.groupby(['Committee', 'PB Cycle'])\n",
    "committees_and_cycles = committee_and_cycle_groups.size().to_frame(name='# of ideas submitted').reset_index()\n",
    "committees_and_cycles.to_csv('camb-pb-data/committees_and_cycles.csv')"
   ]
  },
  {
   "cell_type": "code",
   "execution_count": 200,
   "metadata": {},
   "outputs": [
    {
     "data": {
      "text/html": [
       "<div>\n",
       "<style scoped>\n",
       "    .dataframe tbody tr th:only-of-type {\n",
       "        vertical-align: middle;\n",
       "    }\n",
       "\n",
       "    .dataframe tbody tr th {\n",
       "        vertical-align: top;\n",
       "    }\n",
       "\n",
       "    .dataframe thead th {\n",
       "        text-align: right;\n",
       "    }\n",
       "</style>\n",
       "<table border=\"1\" class=\"dataframe\">\n",
       "  <thead>\n",
       "    <tr style=\"text-align: right;\">\n",
       "      <th></th>\n",
       "      <th>Committee</th>\n",
       "      <th>PB Cycle</th>\n",
       "      <th># of ideas submitted</th>\n",
       "    </tr>\n",
       "  </thead>\n",
       "  <tbody>\n",
       "    <tr>\n",
       "      <th>0</th>\n",
       "      <td>Culture &amp; Community</td>\n",
       "      <td>PB1 (October 2014-April 2015)</td>\n",
       "      <td>80</td>\n",
       "    </tr>\n",
       "    <tr>\n",
       "      <th>1</th>\n",
       "      <td>Culture &amp; Community</td>\n",
       "      <td>PB2 (June-December 2015)</td>\n",
       "      <td>115</td>\n",
       "    </tr>\n",
       "    <tr>\n",
       "      <th>2</th>\n",
       "      <td>Culture &amp; Community</td>\n",
       "      <td>PB3(June-December 2016)</td>\n",
       "      <td>76</td>\n",
       "    </tr>\n",
       "    <tr>\n",
       "      <th>3</th>\n",
       "      <td>Culture &amp; Community</td>\n",
       "      <td>PB4(June-December 2017)</td>\n",
       "      <td>96</td>\n",
       "    </tr>\n",
       "    <tr>\n",
       "      <th>4</th>\n",
       "      <td>Environment, Health &amp; Safety</td>\n",
       "      <td>PB1 (October 2014-April 2015)</td>\n",
       "      <td>70</td>\n",
       "    </tr>\n",
       "  </tbody>\n",
       "</table>\n",
       "</div>"
      ],
      "text/plain": [
       "                      Committee                       PB Cycle  \\\n",
       "0           Culture & Community  PB1 (October 2014-April 2015)   \n",
       "1           Culture & Community       PB2 (June-December 2015)   \n",
       "2           Culture & Community        PB3(June-December 2016)   \n",
       "3           Culture & Community        PB4(June-December 2017)   \n",
       "4  Environment, Health & Safety  PB1 (October 2014-April 2015)   \n",
       "\n",
       "   # of ideas submitted  \n",
       "0                    80  \n",
       "1                   115  \n",
       "2                    76  \n",
       "3                    96  \n",
       "4                    70  "
      ]
     },
     "execution_count": 200,
     "metadata": {},
     "output_type": "execute_result"
    }
   ],
   "source": [
    "committees_and_cycles.head()"
   ]
  },
  {
   "cell_type": "code",
   "execution_count": 26,
   "metadata": {},
   "outputs": [
    {
     "data": {
      "image/png": "[encoded data removed]",
      "text/plain": [
       "<matplotlib.figure.Figure at 0x11a063c88>"
      ]
     },
     "metadata": {},
     "output_type": "display_data"
    },
    {
     "data": {
      "text/plain": [
       "<ggplot: (295723924)>"
      ]
     },
     "execution_count": 26,
     "metadata": {},
     "output_type": "execute_result"
    }
   ],
   "source": [
    "ggplot(committees_and_cycles, aes(x='PB Cycle', y='# of ideas submitted', colour='Committee')) + geom_line()"
   ]
  },
  {
   "cell_type": "code",
   "execution_count": 28,
   "metadata": {},
   "outputs": [],
   "source": [
    "# Instantiates a client\n",
    "client = language.LanguageServiceClient()"
   ]
  },
  {
   "cell_type": "code",
   "execution_count": 48,
   "metadata": {},
   "outputs": [],
   "source": [
    "def entities_text(text):\n",
    "    # Instantiates a plain text document.\n",
    "    document = types.Document(\n",
    "        content=text,\n",
    "        type=enums.Document.Type.PLAIN_TEXT)\n",
    "\n",
    "    # Detects entities in the document. You can also analyze HTML with:\n",
    "    #   document.type == enums.Document.Type.HTML\n",
    "    entities = client.analyze_entities(document).entities\n",
    "\n",
    "    # entity types from enums.Entity.Type\n",
    "    entity_type = ('UNKNOWN', 'PERSON', 'LOCATION', 'ORGANIZATION',\n",
    "                   'EVENT', 'WORK_OF_ART', 'CONSUMER_GOOD', 'OTHER')\n",
    "\n",
    "    entity_list = []\n",
    "    for entity in entities:\n",
    "        entity_list.append(entity.name)\n",
    "    \n",
    "    return ','.join(entity_list)"
   ]
  },
  {
   "cell_type": "code",
   "execution_count": 50,
   "metadata": {},
   "outputs": [],
   "source": [
    "pb_data['Entities'] = pb_data['Project Title'].apply(entities_text)"
   ]
  },
  {
   "cell_type": "code",
   "execution_count": 54,
   "metadata": {},
   "outputs": [],
   "source": [
    "pb_data.to_csv('camb-pb-data/pb_data_updated.csv')"
   ]
  },
  {
   "cell_type": "code",
   "execution_count": 175,
   "metadata": {},
   "outputs": [],
   "source": [
    "# method for returning frequency counts from list\n",
    "def get_freq_count(list_of_entities):\n",
    "    word_freq = {}\n",
    "    for row in list_of_entities:\n",
    "        word_array = row.split(',')\n",
    "        for word in word_array:\n",
    "            word = inf.singularize(word.lower().strip())\n",
    "            if word in word_freq:\n",
    "                word_freq[word] = word_freq[word] + 1\n",
    "            else:\n",
    "                word_freq[word] = 1\n",
    "    return word_freq"
   ]
  },
  {
   "cell_type": "code",
   "execution_count": 176,
   "metadata": {},
   "outputs": [],
   "source": [
    "total_freq_count = get_freq_count(pb_data['Entities'])\n",
    "total_words_array = list(total_freq_count.keys())\n",
    "total_word_counts_array = list(total_freq_count.values())"
   ]
  },
  {
   "cell_type": "code",
   "execution_count": 177,
   "metadata": {},
   "outputs": [],
   "source": [
    "word_usage_df = pd.DataFrame.from_dict({'Word': total_words_array, 'Count': total_word_counts_array})\n",
    "word_usage_df.to_csv('camb-pb-data/word_freq.csv')"
   ]
  },
  {
   "cell_type": "code",
   "execution_count": 178,
   "metadata": {},
   "outputs": [],
   "source": [
    "total_freq_count_by_cycle = {}\n",
    "for name, group in cycle_groups:\n",
    "    total_freq_count_by_cycle[name] = get_freq_count(group['Entities'])"
   ]
  },
  {
   "cell_type": "code",
   "execution_count": 191,
   "metadata": {},
   "outputs": [],
   "source": [
    "pb1_total_freq_count = total_freq_count_by_cycle['PB1 (October 2014-April 2015)']\n",
    "pb1_total_words_array = list(pb1_total_freq_count.keys())\n",
    "pb1_total_word_counts_array = list(pb1_total_freq_count.values())"
   ]
  },
  {
   "cell_type": "code",
   "execution_count": 192,
   "metadata": {},
   "outputs": [],
   "source": [
    "pb1_word_usage_df = pd.DataFrame.from_dict({'Word': pb1_total_words_array, 'Count': pb1_total_word_counts_array})\n",
    "pb1_word_usage_df.to_csv('camb-pb-data/word_freq_pb1.csv')"
   ]
  },
  {
   "cell_type": "code",
   "execution_count": 194,
   "metadata": {},
   "outputs": [],
   "source": [
    "pb2_total_freq_count = total_freq_count_by_cycle['PB2 (June-December 2015)']\n",
    "pb2_total_words_array = list(pb2_total_freq_count.keys())\n",
    "pb2_total_word_counts_array = list(pb2_total_freq_count.values())"
   ]
  },
  {
   "cell_type": "code",
   "execution_count": 195,
   "metadata": {},
   "outputs": [],
   "source": [
    "pb2_word_usage_df = pd.DataFrame.from_dict({'Word': pb2_total_words_array, 'Count': pb2_total_word_counts_array})\n",
    "pb2_word_usage_df.to_csv('camb-pb-data/word_freq_pb2.csv')"
   ]
  },
  {
   "cell_type": "code",
   "execution_count": 196,
   "metadata": {},
   "outputs": [],
   "source": [
    "pb3_total_freq_count = total_freq_count_by_cycle['PB3(June-December 2016)']\n",
    "pb3_total_words_array = list(pb3_total_freq_count.keys())\n",
    "pb3_total_word_counts_array = list(pb3_total_freq_count.values())"
   ]
  },
  {
   "cell_type": "code",
   "execution_count": 197,
   "metadata": {},
   "outputs": [],
   "source": [
    "pb3_word_usage_df = pd.DataFrame.from_dict({'Word': pb3_total_words_array, 'Count': pb3_total_word_counts_array})\n",
    "pb3_word_usage_df.to_csv('camb-pb-data/word_freq_pb3.csv')"
   ]
  },
  {
   "cell_type": "code",
   "execution_count": 198,
   "metadata": {},
   "outputs": [],
   "source": [
    "pb4_total_freq_count = total_freq_count_by_cycle['PB4(June-December 2017)']\n",
    "pb4_total_words_array = list(pb4_total_freq_count.keys())\n",
    "pb4_total_word_counts_array = list(pb4_total_freq_count.values())"
   ]
  },
  {
   "cell_type": "code",
   "execution_count": 199,
   "metadata": {},
   "outputs": [],
   "source": [
    "pb4_word_usage_df = pd.DataFrame.from_dict({'Word': pb4_total_words_array, 'Count': pb4_total_word_counts_array})\n",
    "pb4_word_usage_df.to_csv('camb-pb-data/word_freq_pb4.csv')"
   ]
  },
  {
   "cell_type": "code",
   "execution_count": 218,
   "metadata": {},
   "outputs": [
    {
     "name": "stderr",
     "output_type": "stream",
     "text": [
      "/Users/alex/anaconda/envs/py3/lib/python3.6/site-packages/ipykernel_launcher.py:2: SettingWithCopyWarning: \n",
      "A value is trying to be set on a copy of a slice from a DataFrame.\n",
      "Try using .loc[row_indexer,col_indexer] = value instead\n",
      "\n",
      "See the caveats in the documentation: http://pandas.pydata.org/pandas-docs/stable/indexing.html#indexing-view-versus-copy\n",
      "  \n"
     ]
    }
   ],
   "source": [
    "pb1_trends = pb1_word_usage_df[(pb1_word_usage_df['Word'] == 'wifi') | (pb1_word_usage_df['Word'] == 'bike lane') | (pb1_word_usage_df['Word'] == 'bench') | (pb1_word_usage_df['Word'] == 'parking') | (pb1_word_usage_df['Word'] == 'housing')]\n",
    "pb1_trends['PB Cycle'] = 'PB1 (Oct\\'14-Apr\\'15)'"
   ]
  },
  {
   "cell_type": "code",
   "execution_count": 220,
   "metadata": {},
   "outputs": [
    {
     "name": "stderr",
     "output_type": "stream",
     "text": [
      "/Users/alex/anaconda/envs/py3/lib/python3.6/site-packages/ipykernel_launcher.py:2: SettingWithCopyWarning: \n",
      "A value is trying to be set on a copy of a slice from a DataFrame.\n",
      "Try using .loc[row_indexer,col_indexer] = value instead\n",
      "\n",
      "See the caveats in the documentation: http://pandas.pydata.org/pandas-docs/stable/indexing.html#indexing-view-versus-copy\n",
      "  \n"
     ]
    }
   ],
   "source": [
    "pb2_trends = pb2_word_usage_df[(pb2_word_usage_df['Word'] == 'wifi') | (pb2_word_usage_df['Word'] == 'bike lane') | (pb2_word_usage_df['Word'] == 'bench') | (pb2_word_usage_df['Word'] == 'parking') | (pb2_word_usage_df['Word'] == 'housing')]\n",
    "pb2_trends['PB Cycle'] = 'PB2 (Jun\\-Dec\\'15)'"
   ]
  },
  {
   "cell_type": "code",
   "execution_count": 221,
   "metadata": {},
   "outputs": [
    {
     "name": "stderr",
     "output_type": "stream",
     "text": [
      "/Users/alex/anaconda/envs/py3/lib/python3.6/site-packages/ipykernel_launcher.py:2: SettingWithCopyWarning: \n",
      "A value is trying to be set on a copy of a slice from a DataFrame.\n",
      "Try using .loc[row_indexer,col_indexer] = value instead\n",
      "\n",
      "See the caveats in the documentation: http://pandas.pydata.org/pandas-docs/stable/indexing.html#indexing-view-versus-copy\n",
      "  \n"
     ]
    }
   ],
   "source": [
    "pb3_trends = pb3_word_usage_df[(pb3_word_usage_df['Word'] == 'wifi') | (pb3_word_usage_df['Word'] == 'bike lane') | (pb3_word_usage_df['Word'] == 'bench') | (pb3_word_usage_df['Word'] == 'parking') | (pb3_word_usage_df['Word'] == 'housing')]\n",
    "pb3_trends['PB Cycle'] = 'PB3 (Jun\\-Dec\\'16)'"
   ]
  },
  {
   "cell_type": "code",
   "execution_count": 222,
   "metadata": {},
   "outputs": [
    {
     "name": "stderr",
     "output_type": "stream",
     "text": [
      "/Users/alex/anaconda/envs/py3/lib/python3.6/site-packages/ipykernel_launcher.py:2: SettingWithCopyWarning: \n",
      "A value is trying to be set on a copy of a slice from a DataFrame.\n",
      "Try using .loc[row_indexer,col_indexer] = value instead\n",
      "\n",
      "See the caveats in the documentation: http://pandas.pydata.org/pandas-docs/stable/indexing.html#indexing-view-versus-copy\n",
      "  \n"
     ]
    }
   ],
   "source": [
    "pb4_trends = pb4_word_usage_df[(pb4_word_usage_df['Word'] == 'wifi') | (pb4_word_usage_df['Word'] == 'bike lane') | (pb4_word_usage_df['Word'] == 'bench') | (pb4_word_usage_df['Word'] == 'parking') | (pb4_word_usage_df['Word'] == 'housing')]\n",
    "pb4_trends['PB Cycle'] = 'PB4 (Jun\\-Dec\\'17)'"
   ]
  },
  {
   "cell_type": "code",
   "execution_count": 228,
   "metadata": {},
   "outputs": [],
   "source": [
    "pb_trends = pd.concat([pb1_trends, pb2_trends, pb3_trends, pb4_trends])\n",
    "pb_trends = pb_trends.rename(columns={\"Word\": \"Topic\"})"
   ]
  },
  {
   "cell_type": "code",
   "execution_count": 229,
   "metadata": {},
   "outputs": [
    {
     "data": {
      "image/png": "[encoded data removed]",
      "text/plain": [
       "<matplotlib.figure.Figure at 0x1c214cf518>"
      ]
     },
     "metadata": {},
     "output_type": "display_data"
    },
    {
     "data": {
      "text/plain": [
       "<ggplot: (-9223372029302743587)>"
      ]
     },
     "execution_count": 229,
     "metadata": {},
     "output_type": "execute_result"
    }
   ],
   "source": [
    "ggplot(pb_trends, aes(x='PB Cycle', y='Count', colour='Topic')) + geom_line()"
   ]
  },
  {
   "cell_type": "code",
   "execution_count": null,
   "metadata": {},
   "outputs": [],
   "source": []
  }
 ],
 "metadata": {
  "kernelspec": {
   "display_name": "Python 3",
   "language": "python",
   "name": "python3"
  },
  "language_info": {
   "codemirror_mode": {
    "name": "ipython",
    "version": 3
   },
   "file_extension": ".py",
   "mimetype": "text/x-python",
   "name": "python",
   "nbconvert_exporter": "python",
   "pygments_lexer": "ipython3",
   "version": "3.6.4"
  }
 },
 "nbformat": 4,
 "nbformat_minor": 2
}
