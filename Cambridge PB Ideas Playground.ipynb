{
 "cells": [
  {
   "cell_type": "code",
   "execution_count": null,
   "metadata": {},
   "outputs": [],
   "source": [
    "import numpy as np\n",
    "import pandas as pd\n",
    "import scipy\n",
    "import scipy.stats\n",
    "import matplotlib.pyplot as plt\n",
    "%matplotlib inline\n",
    "from ggplot import *\n",
    "# for maps\n",
    "from mapboxgl.utils import *\n",
    "from mapboxgl.viz import *\n",
    "import geojson\n",
    "# for text analysis\n",
    "from google.cloud import language\n",
    "from google.cloud.language import enums\n",
    "from google.cloud.language import types\n",
    "from inflector import Inflector, English\n",
    "inf = Inflector(English)"
   ]
  },
  {
   "cell_type": "code",
   "execution_count": null,
   "metadata": {},
   "outputs": [],
   "source": [
    "file_path = './camb-pb-data/Participatory_Budgeting_Ideas_Submitted_by_Community_Members.csv'\n",
    "pb_data = pd.read_csv(file_path)"
   ]
  },
  {
   "cell_type": "code",
   "execution_count": null,
   "metadata": {},
   "outputs": [],
   "source": [
    "pb_data.head()"
   ]
  },
  {
   "cell_type": "code",
   "execution_count": null,
   "metadata": {},
   "outputs": [],
   "source": [
    "pb_data['Committee'] = pb_data['Committee'].apply(lambda x: x.strip())"
   ]
  },
  {
   "cell_type": "code",
   "execution_count": null,
   "metadata": {},
   "outputs": [],
   "source": [
    "pb_data.groupby('Committee').size()"
   ]
  },
  {
   "cell_type": "code",
   "execution_count": null,
   "metadata": {},
   "outputs": [],
   "source": [
    "def rename_committees(committee):\n",
    "    # code to rename committees\n",
    "    if committee == 'Environment' or committee == 'Environment, Health & Safety' or committee == 'Health, Environment & Safety':\n",
    "        return 'Environment, Health & Safety'\n",
    "    elif committee == 'Parks & Recreation' or committee == 'Parks, Recreation & Education':\n",
    "        return 'Parks, Recreation & Education'\n",
    "    elif committee == 'Youth & Education' or committee == 'Youth & Technology':\n",
    "        return 'Youth Education & Technology'\n",
    "    elif committee == 'Streets, Sidewalks & Transit' or committee == 'Streetsmarts':\n",
    "        return 'Streets, Sidewalks & Transit'\n",
    "    elif committee == 'Culture & Community Facilities' or committee == 'Community Resources' or committee == '\\'Bridge Builders':\n",
    "        return 'Culture & Community'\n",
    "    else:\n",
    "        return committee"
   ]
  },
  {
   "cell_type": "code",
   "execution_count": null,
   "metadata": {},
   "outputs": [],
   "source": [
    "pb_data['Committee'] = pb_data['Committee'].apply(rename_committees)"
   ]
  },
  {
   "cell_type": "code",
   "execution_count": null,
   "metadata": {},
   "outputs": [],
   "source": [
    "pb_data['Committee'].value_counts(normalize=True)"
   ]
  },
  {
   "cell_type": "code",
   "execution_count": null,
   "metadata": {},
   "outputs": [],
   "source": [
    "committee_groups = pb_data.groupby(['Committee'])\n",
    "committees = committee_groups.size().to_frame(name='# of ideas submitted').reset_index()\n",
    "committees.to_csv('camb-pb-data/committees.csv')"
   ]
  },
  {
   "cell_type": "code",
   "execution_count": null,
   "metadata": {},
   "outputs": [],
   "source": [
    "committees.head()"
   ]
  },
  {
   "cell_type": "code",
   "execution_count": null,
   "metadata": {},
   "outputs": [],
   "source": [
    "cycle_groups = pb_data.groupby('PB Cycle')\n",
    "cycles = cycle_groups.size().to_frame(name=\"# of ideas submitted\").reset_index()\n",
    "cycles.to_csv('camb-pb-data/cycles.csv')"
   ]
  },
  {
   "cell_type": "code",
   "execution_count": null,
   "metadata": {},
   "outputs": [],
   "source": [
    "cycles.head()"
   ]
  },
  {
   "cell_type": "code",
   "execution_count": null,
   "metadata": {},
   "outputs": [],
   "source": [
    "pb_data.head()"
   ]
  },
  {
   "cell_type": "code",
   "execution_count": null,
   "metadata": {},
   "outputs": [],
   "source": [
    "pb_by_category = committee_groups.size().to_frame(name='# of ideas').reset_index()"
   ]
  },
  {
   "cell_type": "code",
   "execution_count": null,
   "metadata": {},
   "outputs": [],
   "source": [
    "pb_by_location = pb_data.dropna(axis=0, how='any', subset=['Latitude', 'Longitude'])"
   ]
  },
  {
   "cell_type": "code",
   "execution_count": null,
   "metadata": {},
   "outputs": [],
   "source": [
    "# ideas by location\n",
    "df_to_geojson(pb_by_location, filename='camb-pb-data/locations.geojson',\n",
    "              properties=['Committee', 'PB Cycle'],\n",
    "              lat='Latitude', lon='Longitude', precision=3)"
   ]
  },
  {
   "cell_type": "code",
   "execution_count": null,
   "metadata": {},
   "outputs": [],
   "source": [
    "pb_data['Idea Submitter'].value_counts().head()"
   ]
  },
  {
   "cell_type": "markdown",
   "metadata": {},
   "source": [
    "Things I am interested in finding out:\n",
    "- categorize the ideas based on their content, more specific categories, rather than the few we have\n",
    "- break the interest of particular types of ideas (by category and the above) by year, see if trends exist for particular types of ideas\n",
    "- look at the influence of the minority, 69 (3.5% total) ideas presumably came from one person, that's a lot of influence (calculate how much based on any accepted proposals)"
   ]
  },
  {
   "cell_type": "code",
   "execution_count": null,
   "metadata": {},
   "outputs": [],
   "source": [
    "committee_and_cycle_groups = pb_data.groupby(['Committee', 'PB Cycle'])\n",
    "committees_and_cycles = committee_and_cycle_groups.size().to_frame(name='# of ideas submitted').reset_index()\n",
    "committees_and_cycles.to_csv('camb-pb-data/committees_and_cycles.csv')"
   ]
  },
  {
   "cell_type": "code",
   "execution_count": null,
   "metadata": {},
   "outputs": [],
   "source": [
    "committees_and_cycles.head()"
   ]
  },
  {
   "cell_type": "code",
   "execution_count": null,
   "metadata": {},
   "outputs": [],
   "source": [
    "ggplot(committees_and_cycles, aes(x='PB Cycle', y='# of ideas submitted', colour='Committee')) + geom_line()"
   ]
  },
  {
   "cell_type": "code",
   "execution_count": null,
   "metadata": {},
   "outputs": [],
   "source": [
    "# Instantiates a client\n",
    "client = language.LanguageServiceClient()"
   ]
  },
  {
   "cell_type": "code",
   "execution_count": null,
   "metadata": {},
   "outputs": [],
   "source": [
    "def entities_text(text):\n",
    "    # Instantiates a plain text document.\n",
    "    document = types.Document(\n",
    "        content=text,\n",
    "        type=enums.Document.Type.PLAIN_TEXT)\n",
    "\n",
    "    # Detects entities in the document. You can also analyze HTML with:\n",
    "    #   document.type == enums.Document.Type.HTML\n",
    "    entities = client.analyze_entities(document).entities\n",
    "\n",
    "    # entity types from enums.Entity.Type\n",
    "    entity_type = ('UNKNOWN', 'PERSON', 'LOCATION', 'ORGANIZATION',\n",
    "                   'EVENT', 'WORK_OF_ART', 'CONSUMER_GOOD', 'OTHER')\n",
    "\n",
    "    entity_list = []\n",
    "    for entity in entities:\n",
    "        entity_list.append(entity.name)\n",
    "    \n",
    "    return ','.join(entity_list)"
   ]
  },
  {
   "cell_type": "code",
   "execution_count": null,
   "metadata": {},
   "outputs": [],
   "source": [
    "pb_data['Entities'] = pb_data['Project Title'].apply(entities_text)"
   ]
  },
  {
   "cell_type": "code",
   "execution_count": null,
   "metadata": {},
   "outputs": [],
   "source": [
    "pb_data.to_csv('camb-pb-data/pb_data_updated.csv')"
   ]
  },
  {
   "cell_type": "code",
   "execution_count": null,
   "metadata": {},
   "outputs": [],
   "source": [
    "# method for returning frequency counts from list\n",
    "def get_freq_count(list_of_entities):\n",
    "    word_freq = {}\n",
    "    for row in list_of_entities:\n",
    "        word_array = row.split(',')\n",
    "        for word in word_array:\n",
    "            word = inf.singularize(word.lower().strip())\n",
    "            if word in word_freq:\n",
    "                word_freq[word] = word_freq[word] + 1\n",
    "            else:\n",
    "                word_freq[word] = 1\n",
    "    return word_freq"
   ]
  },
  {
   "cell_type": "code",
   "execution_count": null,
   "metadata": {},
   "outputs": [],
   "source": [
    "total_freq_count = get_freq_count(pb_data['Entities'])\n",
    "total_words_array = list(total_freq_count.keys())\n",
    "total_word_counts_array = list(total_freq_count.values())"
   ]
  },
  {
   "cell_type": "code",
   "execution_count": null,
   "metadata": {},
   "outputs": [],
   "source": [
    "word_usage_df = pd.DataFrame.from_dict({'Word': total_words_array, 'Count': total_word_counts_array})\n",
    "word_usage_df.to_csv('camb-pb-data/word_freq.csv')"
   ]
  },
  {
   "cell_type": "code",
   "execution_count": null,
   "metadata": {},
   "outputs": [],
   "source": [
    "total_freq_count_by_cycle = {}\n",
    "for name, group in cycle_groups:\n",
    "    total_freq_count_by_cycle[name] = get_freq_count(group['Entities'])"
   ]
  },
  {
   "cell_type": "code",
   "execution_count": null,
   "metadata": {},
   "outputs": [],
   "source": [
    "pb1_total_freq_count = total_freq_count_by_cycle['PB1 (October 2014-April 2015)']\n",
    "pb1_total_words_array = list(pb1_total_freq_count.keys())\n",
    "pb1_total_word_counts_array = list(pb1_total_freq_count.values())"
   ]
  },
  {
   "cell_type": "code",
   "execution_count": null,
   "metadata": {},
   "outputs": [],
   "source": [
    "pb1_word_usage_df = pd.DataFrame.from_dict({'Word': pb1_total_words_array, 'Count': pb1_total_word_counts_array})\n",
    "pb1_word_usage_df.to_csv('camb-pb-data/word_freq_pb1.csv')"
   ]
  },
  {
   "cell_type": "code",
   "execution_count": null,
   "metadata": {},
   "outputs": [],
   "source": [
    "pb2_total_freq_count = total_freq_count_by_cycle['PB2 (June-December 2015)']\n",
    "pb2_total_words_array = list(pb2_total_freq_count.keys())\n",
    "pb2_total_word_counts_array = list(pb2_total_freq_count.values())"
   ]
  },
  {
   "cell_type": "code",
   "execution_count": null,
   "metadata": {},
   "outputs": [],
   "source": [
    "pb2_word_usage_df = pd.DataFrame.from_dict({'Word': pb2_total_words_array, 'Count': pb2_total_word_counts_array})\n",
    "pb2_word_usage_df.to_csv('camb-pb-data/word_freq_pb2.csv')"
   ]
  },
  {
   "cell_type": "code",
   "execution_count": null,
   "metadata": {},
   "outputs": [],
   "source": [
    "pb3_total_freq_count = total_freq_count_by_cycle['PB3(June-December 2016)']\n",
    "pb3_total_words_array = list(pb3_total_freq_count.keys())\n",
    "pb3_total_word_counts_array = list(pb3_total_freq_count.values())"
   ]
  },
  {
   "cell_type": "code",
   "execution_count": null,
   "metadata": {},
   "outputs": [],
   "source": [
    "pb3_word_usage_df = pd.DataFrame.from_dict({'Word': pb3_total_words_array, 'Count': pb3_total_word_counts_array})\n",
    "pb3_word_usage_df.to_csv('camb-pb-data/word_freq_pb3.csv')"
   ]
  },
  {
   "cell_type": "code",
   "execution_count": null,
   "metadata": {},
   "outputs": [],
   "source": [
    "pb4_total_freq_count = total_freq_count_by_cycle['PB4(June-December 2017)']\n",
    "pb4_total_words_array = list(pb4_total_freq_count.keys())\n",
    "pb4_total_word_counts_array = list(pb4_total_freq_count.values())"
   ]
  },
  {
   "cell_type": "code",
   "execution_count": null,
   "metadata": {},
   "outputs": [],
   "source": [
    "pb4_word_usage_df = pd.DataFrame.from_dict({'Word': pb4_total_words_array, 'Count': pb4_total_word_counts_array})\n",
    "pb4_word_usage_df.to_csv('camb-pb-data/word_freq_pb4.csv')"
   ]
  },
  {
   "cell_type": "code",
   "execution_count": null,
   "metadata": {},
   "outputs": [],
   "source": [
    "pb1_trends = pb1_word_usage_df[(pb1_word_usage_df['Word'] == 'wifi') | (pb1_word_usage_df['Word'] == 'bike lane') | (pb1_word_usage_df['Word'] == 'bench') | (pb1_word_usage_df['Word'] == 'parking') | (pb1_word_usage_df['Word'] == 'housing')]\n",
    "pb1_trends['PB Cycle'] = 'PB1 (Oct\\'14-Apr\\'15)'"
   ]
  },
  {
   "cell_type": "code",
   "execution_count": null,
   "metadata": {},
   "outputs": [],
   "source": [
    "pb2_trends = pb2_word_usage_df[(pb2_word_usage_df['Word'] == 'wifi') | (pb2_word_usage_df['Word'] == 'bike lane') | (pb2_word_usage_df['Word'] == 'bench') | (pb2_word_usage_df['Word'] == 'parking') | (pb2_word_usage_df['Word'] == 'housing')]\n",
    "pb2_trends['PB Cycle'] = 'PB2 (Jun\\-Dec\\'15)'"
   ]
  },
  {
   "cell_type": "code",
   "execution_count": null,
   "metadata": {},
   "outputs": [],
   "source": [
    "pb3_trends = pb3_word_usage_df[(pb3_word_usage_df['Word'] == 'wifi') | (pb3_word_usage_df['Word'] == 'bike lane') | (pb3_word_usage_df['Word'] == 'bench') | (pb3_word_usage_df['Word'] == 'parking') | (pb3_word_usage_df['Word'] == 'housing')]\n",
    "pb3_trends['PB Cycle'] = 'PB3 (Jun\\-Dec\\'16)'"
   ]
  },
  {
   "cell_type": "code",
   "execution_count": null,
   "metadata": {},
   "outputs": [],
   "source": [
    "pb4_trends = pb4_word_usage_df[(pb4_word_usage_df['Word'] == 'wifi') | (pb4_word_usage_df['Word'] == 'bike lane') | (pb4_word_usage_df['Word'] == 'bench') | (pb4_word_usage_df['Word'] == 'parking') | (pb4_word_usage_df['Word'] == 'housing')]\n",
    "pb4_trends['PB Cycle'] = 'PB4 (Jun\\-Dec\\'17)'"
   ]
  },
  {
   "cell_type": "code",
   "execution_count": null,
   "metadata": {},
   "outputs": [],
   "source": [
    "pb_trends = pd.concat([pb1_trends, pb2_trends, pb3_trends, pb4_trends])\n",
    "pb_trends = pb_trends.rename(columns={\"Word\": \"Topic\"})"
   ]
  },
  {
   "cell_type": "code",
   "execution_count": null,
   "metadata": {},
   "outputs": [],
   "source": [
    "ggplot(pb_trends, aes(x='PB Cycle', y='Count', colour='Topic')) + geom_line()"
   ]
  },
  {
   "cell_type": "code",
   "execution_count": null,
   "metadata": {},
   "outputs": [],
   "source": []
  }
 ],
 "metadata": {
  "kernelspec": {
   "display_name": "Python 3",
   "language": "python",
   "name": "python3"
  },
  "language_info": {
   "codemirror_mode": {
    "name": "ipython",
    "version": 3
   },
   "file_extension": ".py",
   "mimetype": "text/x-python",
   "name": "python",
   "nbconvert_exporter": "python",
   "pygments_lexer": "ipython3",
   "version": "3.6.4"
  }
 },
 "nbformat": 4,
 "nbformat_minor": 2
}
